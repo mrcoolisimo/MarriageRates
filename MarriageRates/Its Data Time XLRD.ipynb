{
 "cells": [
  {
   "cell_type": "code",
   "execution_count": 1,
   "metadata": {},
   "outputs": [],
   "source": [
    "import xlrd\n",
    "import pandas as pd\n",
    "\n",
    "#Get Excel File\n",
    "book = xlrd.open_workbook('/home/liam/Documents/jpy/state_marriage_rates_90_95_99-16.xlsx')\n",
    "sheet1 = book.sheet_by_index(0)"
   ]
  },
  {
   "cell_type": "markdown",
   "metadata": {},
   "source": [
    "# Heavy Calculations"
   ]
  },
  {
   "cell_type": "code",
   "execution_count": 77,
   "metadata": {},
   "outputs": [],
   "source": [
    "def getMean(z):\n",
    "    total=0\n",
    "    count=0\n",
    "    \n",
    "    for x in z:\n",
    "        try:\n",
    "            total += x\n",
    "            count += 1\n",
    "        except:\n",
    "            pass\n",
    "            \n",
    "    mean = int(total/count*10)/10\n",
    "    return mean\n",
    "\n",
    "def getStDev(z):\n",
    "    sd=0\n",
    "    count=0\n",
    "    mean = getMean(z)\n",
    "    \n",
    "    for x in z:\n",
    "        try:\n",
    "            sd += (x - mean)**2\n",
    "            count+=1\n",
    "        except:\n",
    "            pass\n",
    "            \n",
    "    sd = (sd / (count-1))**0.5\n",
    "    return sd\n",
    "\n"
   ]
  },
  {
   "cell_type": "markdown",
   "metadata": {},
   "source": [
    "# Find the Row or Column"
   ]
  },
  {
   "cell_type": "code",
   "execution_count": 108,
   "metadata": {},
   "outputs": [],
   "source": [
    "def whichX(z):\n",
    "    #Returns specified state data into a list omitting the first row saying the state\n",
    "    state = sheet1.row_values(z)[1:]\n",
    "    return state\n",
    "\n",
    "def whichY(z):\n",
    "    #Returns specified year data into a list omitting the first column stating the year\n",
    "    year = sheet1.col_values(z)[1:]\n",
    "    return year\n"
   ]
  },
  {
   "cell_type": "markdown",
   "metadata": {},
   "source": [
    "# Calculate for All rows or columns"
   ]
  },
  {
   "cell_type": "code",
   "execution_count": 162,
   "metadata": {},
   "outputs": [],
   "source": [
    "#Print the average for each year\n",
    "def getAllMeanX():\n",
    "    for z in range(1, sheet1.ncols):\n",
    "        try:\n",
    "            print(sheet1.cell(0,z).value, \": \", getMean(whichY(z)), sep='')\n",
    "        except:\n",
    "            pass\n",
    "\n",
    "#Print the average for each state\n",
    "def getAllMeanY():\n",
    "    for z in range(1, (sheet1.nrows)):\n",
    "        try:\n",
    "            print(sheet1.cell(z,0).value, \": \", getMean(whichX(z)), sep='')\n",
    "        except:\n",
    "            pass\n",
    "        \n",
    "#Prints the Standard Deviation for each state\n",
    "def getAllStDevX():\n",
    "    for z in range(1, (sheet1.ncols)):\n",
    "        try:\n",
    "            print(sheet1.cell(0,z).value, \": \", getStDev(whichY(z)), sep='')\n",
    "        except:\n",
    "            pass\n",
    "        \n",
    "def getAllStDevY():\n",
    "    for z in range(1, (sheet1.nrows)):\n",
    "        try:\n",
    "            print(sheet1.cell(z,0).value, \": \", getStDev(whichX(z)), sep='')\n",
    "        except:\n",
    "            print()"
   ]
  },
  {
   "cell_type": "markdown",
   "metadata": {},
   "source": [
    "# Run Code"
   ]
  },
  {
   "cell_type": "code",
   "execution_count": 163,
   "metadata": {},
   "outputs": [
    {
     "name": "stdout",
     "output_type": "stream",
     "text": [
      "Alabama: 1.0370548400622892\n",
      "Alaska: 0.727352489998678\n",
      "Arizona: 1.2036407654669834\n",
      "Arkansas: 1.9988480179017847\n",
      "California: 0.4603068960111573\n",
      "Colorado: 0.8283210922772669\n",
      "Connecticut: 0.6097401502935893\n",
      "Delaware: 0.75831183950548\n",
      "District of Columbia: 2.287896437014112\n",
      "Florida: 1.0139193432162703\n",
      "Georgia: 1.0203531984104932\n",
      "Hawaii: 2.399539316222983\n",
      "Idaho: 1.70478681179273\n",
      "Illinois: 0.8046633321553123\n",
      "Indiana: 0.8030103929102119\n",
      "Iowa: 0.625745686907797\n",
      "Kansas: 0.875038731160407\n",
      "Kentucky: 1.7640182841521281\n",
      "Louisiana: 1.1666271347902\n",
      "Maine: 0.7038345882568257\n",
      "Maryland: 0.9880462495688662\n",
      "Massachusetts: 0.6127376739738548\n",
      "Michigan: 0.6965861948693587\n",
      "Minnesota: 0.6449981061150682\n",
      "Mississippi: 1.1635006893563078\n",
      "Missouri: 0.8051707419520148\n",
      "Montana: 0.3560205743063281\n",
      "Nebraska: 0.5146455334174221\n",
      "Nevada: 20.68267696225844\n",
      "New Hampshire: 0.8569898436399954\n",
      "New Jersey: 0.6526029045492222\n",
      "New Mexico: 1.2311728102559225\n",
      "New York: 0.5264343778276313\n",
      "North Carolina: 0.606649621905423\n",
      "North Dakota: 0.37593037804158913\n",
      "Ohio: 0.9399080470110919\n",
      "Oklahoma: 0.9831038423240862\n",
      "Oregon: 0.6368675987408574\n",
      "Pennsylvania: 0.41157646982228796\n",
      "Rhode Island: 0.7883717294186484\n",
      "South Carolina: 2.1829669553420312\n",
      "South Dakota: 1.0796033512129102\n",
      "Tennessee: 2.5491087526070886\n",
      "Texas: 1.0828457057835552\n",
      "Utah: 1.101189881248159\n",
      "Vermont: 0.83436883481525\n",
      "Virginia: 1.2913653407032166\n",
      "Washington: 0.7897590401100354\n",
      "West Virginia: 0.6251605972176565\n",
      "Wisconsin: 0.6921913153289646\n",
      "Wyoming: 1.1466649076241289\n"
     ]
    }
   ],
   "source": [
    "##Run code here\n",
    "\n",
    "#getAllMeanX()\n",
    "#getAllMeanY()\n",
    "#getAllStDevX()\n",
    "#getAllStDevY()\n",
    "\n"
   ]
  },
  {
   "cell_type": "code",
   "execution_count": null,
   "metadata": {},
   "outputs": [],
   "source": []
  }
 ],
 "metadata": {
  "kernelspec": {
   "display_name": "Python 3",
   "language": "python",
   "name": "python3"
  },
  "language_info": {
   "codemirror_mode": {
    "name": "ipython",
    "version": 3
   },
   "file_extension": ".py",
   "mimetype": "text/x-python",
   "name": "python",
   "nbconvert_exporter": "python",
   "pygments_lexer": "ipython3",
   "version": "3.6.8"
  }
 },
 "nbformat": 4,
 "nbformat_minor": 2
}
